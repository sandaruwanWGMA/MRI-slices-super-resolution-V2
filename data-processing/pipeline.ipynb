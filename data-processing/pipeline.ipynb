{
 "cells": [
  {
   "cell_type": "code",
   "execution_count": 1,
   "metadata": {},
   "outputs": [],
   "source": [
    "import nibabel as nib\n",
    "import numpy as np\n",
    "import os\n",
    "import glob\n",
    "import SimpleITK as sitk"
   ]
  },
  {
   "cell_type": "code",
   "execution_count": 4,
   "metadata": {},
   "outputs": [
    {
     "name": "stdout",
     "output_type": "stream",
     "text": [
      "<class 'nibabel.nifti1.Nifti1Header'> object, endian='<'\n",
      "sizeof_hdr      : 348\n",
      "data_type       : b''\n",
      "db_name         : b''\n",
      "extents         : 0\n",
      "session_error   : 0\n",
      "regular         : b'r'\n",
      "dim_info        : 0\n",
      "dim             : [  3 175 256 256   1   1   1   1]\n",
      "intent_p1       : 0.0\n",
      "intent_p2       : 0.0\n",
      "intent_p3       : 0.0\n",
      "intent_code     : none\n",
      "datatype        : float32\n",
      "bitpix          : 32\n",
      "slice_start     : 0\n",
      "pixdim          : [1. 1. 1. 1. 0. 0. 0. 0.]\n",
      "vox_offset      : 0.0\n",
      "scl_slope       : nan\n",
      "scl_inter       : nan\n",
      "slice_end       : 0\n",
      "slice_code      : unknown\n",
      "xyzt_units      : 10\n",
      "cal_max         : 0.0\n",
      "cal_min         : 0.0\n",
      "slice_duration  : 0.0\n",
      "toffset         : 0.0\n",
      "glmax           : 0\n",
      "glmin           : 0\n",
      "descrip         : b''\n",
      "aux_file        : b''\n",
      "qform_code      : scanner\n",
      "sform_code      : scanner\n",
      "quatern_b       : 0.0\n",
      "quatern_c       : 0.0\n",
      "quatern_d       : 0.0\n",
      "qoffset_x       : -96.71713\n",
      "qoffset_y       : -117.40074\n",
      "qoffset_z       : -113.47519\n",
      "srow_x          : [  1.        0.       -0.      -96.71713]\n",
      "srow_y          : [   0.         1.        -0.      -117.40074]\n",
      "srow_z          : [   0.         0.         1.      -113.47519]\n",
      "intent_name     : b''\n",
      "magic           : b'n+1'\n"
     ]
    }
   ],
   "source": [
    "image = nib.load(\"G:\\Semester 5\\Data Science and Engineering Project\\Codes\\MRI-slices-super-resolution-V2\\data-processing\\data\\downsampled_updated_CC0001_philips_15_55_M.nii.gz\")\n",
    "print(image.header)"
   ]
  },
  {
   "cell_type": "code",
   "execution_count": 5,
   "metadata": {},
   "outputs": [
    {
     "name": "stdout",
     "output_type": "stream",
     "text": [
      "<class 'nibabel.nifti1.Nifti1Header'> object, endian='<'\n",
      "sizeof_hdr      : 348\n",
      "data_type       : b''\n",
      "db_name         : b''\n",
      "extents         : 0\n",
      "session_error   : 0\n",
      "regular         : b'r'\n",
      "dim_info        : 0\n",
      "dim             : [  3  35 256 256   1   1   1   1]\n",
      "intent_p1       : 0.0\n",
      "intent_p2       : 0.0\n",
      "intent_p3       : 0.0\n",
      "intent_code     : none\n",
      "datatype        : float32\n",
      "bitpix          : 32\n",
      "slice_start     : 0\n",
      "pixdim          : [1. 5. 1. 1. 1. 1. 1. 1.]\n",
      "vox_offset      : 0.0\n",
      "scl_slope       : nan\n",
      "scl_inter       : nan\n",
      "slice_end       : 0\n",
      "slice_code      : unknown\n",
      "xyzt_units      : 10\n",
      "cal_max         : 0.0\n",
      "cal_min         : 0.0\n",
      "slice_duration  : 0.0\n",
      "toffset         : 0.0\n",
      "glmax           : 0\n",
      "glmin           : 0\n",
      "descrip         : b''\n",
      "aux_file        : b''\n",
      "qform_code      : unknown\n",
      "sform_code      : aligned\n",
      "quatern_b       : 0.0\n",
      "quatern_c       : 0.0\n",
      "quatern_d       : 0.0\n",
      "qoffset_x       : -96.71713\n",
      "qoffset_y       : -117.40074\n",
      "qoffset_z       : -113.47519\n",
      "srow_x          : [  5.        0.        0.      -96.71713]\n",
      "srow_y          : [   0.         1.         0.      -117.40074]\n",
      "srow_z          : [   0.         0.         1.      -113.47519]\n",
      "intent_name     : b''\n",
      "magic           : b'n+1'\n"
     ]
    }
   ],
   "source": [
    "new_img = image.slicer[::5, :, :]\n",
    "print(new_img.header)"
   ]
  },
  {
   "cell_type": "code",
   "execution_count": 8,
   "metadata": {},
   "outputs": [],
   "source": [
    "# Save new image\n",
    "nib.save(new_img, \"G:\\Semester 5\\Data Science and Engineering Project\\Codes\\MRI-slices-super-resolution-V2\\data-processing\\data\\/new_downsampled_updated_CC0001_philips_15_55_M_5.nii.gz\")"
   ]
  },
  {
   "cell_type": "code",
   "execution_count": 9,
   "metadata": {},
   "outputs": [
    {
     "name": "stdout",
     "output_type": "stream",
     "text": [
      "<class 'nibabel.nifti1.Nifti1Header'> object, endian='<'\n",
      "sizeof_hdr      : 348\n",
      "data_type       : b''\n",
      "db_name         : b''\n",
      "extents         : 0\n",
      "session_error   : 0\n",
      "regular         : b'r'\n",
      "dim_info        : 0\n",
      "dim             : [  3  35 256 256   1   1   1   1]\n",
      "intent_p1       : 0.0\n",
      "intent_p2       : 0.0\n",
      "intent_p3       : 0.0\n",
      "intent_code     : none\n",
      "datatype        : float32\n",
      "bitpix          : 32\n",
      "slice_start     : 0\n",
      "pixdim          : [1. 5. 1. 1. 1. 1. 1. 1.]\n",
      "vox_offset      : 0.0\n",
      "scl_slope       : nan\n",
      "scl_inter       : nan\n",
      "slice_end       : 0\n",
      "slice_code      : unknown\n",
      "xyzt_units      : 10\n",
      "cal_max         : 0.0\n",
      "cal_min         : 0.0\n",
      "slice_duration  : 0.0\n",
      "toffset         : 0.0\n",
      "glmax           : 0\n",
      "glmin           : 0\n",
      "descrip         : b''\n",
      "aux_file        : b''\n",
      "qform_code      : unknown\n",
      "sform_code      : aligned\n",
      "quatern_b       : 0.0\n",
      "quatern_c       : 0.0\n",
      "quatern_d       : 0.0\n",
      "qoffset_x       : -96.71713\n",
      "qoffset_y       : -117.40074\n",
      "qoffset_z       : -113.47519\n",
      "srow_x          : [  5.        0.        0.      -96.71713]\n",
      "srow_y          : [   0.         1.         0.      -117.40074]\n",
      "srow_z          : [   0.         0.         1.      -113.47519]\n",
      "intent_name     : b''\n",
      "magic           : b'n+1'\n"
     ]
    }
   ],
   "source": [
    "# load the image\n",
    "img = nib.load(\"G:\\Semester 5\\Data Science and Engineering Project\\Codes\\MRI-slices-super-resolution-V2\\data-processing\\data\\/new_downsampled_updated_CC0001_philips_15_55_M_5.nii.gz\")\n",
    "print(img.header)"
   ]
  },
  {
   "cell_type": "code",
   "execution_count": 10,
   "metadata": {},
   "outputs": [],
   "source": [
    "base_dir = r\"G:\\Semester 5\\Data Science and Engineering Project\\Codes\\MRI-Enhance-3D\\DataSet\"\n",
    "\n",
    "# Use glob to find all files in the directory\n",
    "file_paths = glob.glob(os.path.join(base_dir, '*'))"
   ]
  },
  {
   "cell_type": "code",
   "execution_count": 11,
   "metadata": {},
   "outputs": [],
   "source": [
    "def read_nifti_file(filepath, save_header=False):\n",
    "    # Extract the file name from the file path\n",
    "    file_name = os.path.basename(filepath)\n",
    "\n",
    "    # Read the .nii file\n",
    "    img = nib.load(filepath)\n",
    "\n",
    "    # Extract header data\n",
    "    header = img.header\n",
    "\n",
    "    # Extract image data\n",
    "    data = img.get_fdata()\n",
    "\n",
    "    # Save the header data if specified\n",
    "    if save_header:\n",
    "        with open('./data/' + file_name + '.txt', 'w') as file:\n",
    "            file.write(str(header))\n",
    "    \n",
    "    return img, header, data, file_name\n"
   ]
  },
  {
   "cell_type": "code",
   "execution_count": 12,
   "metadata": {},
   "outputs": [],
   "source": [
    "# Test1\n",
    "image, header, data, file_name = read_nifti_file(file_paths[1], save_header=True)"
   ]
  },
  {
   "cell_type": "code",
   "execution_count": 13,
   "metadata": {},
   "outputs": [
    {
     "data": {
      "text/plain": [
       "nibabel.nifti1.Nifti1Image"
      ]
     },
     "execution_count": 13,
     "metadata": {},
     "output_type": "execute_result"
    }
   ],
   "source": [
    "type(image)"
   ]
  },
  {
   "cell_type": "code",
   "execution_count": 14,
   "metadata": {},
   "outputs": [],
   "source": [
    "def get_header_dims(file_paths):\n",
    "    header_dims = []\n",
    "    for file_path in file_paths:\n",
    "        header = read_nifti_file(file_path, save_header=False)[1]['dim']\n",
    "        header_dims.append(header)\n",
    "    return header_dims"
   ]
  },
  {
   "cell_type": "code",
   "execution_count": 15,
   "metadata": {},
   "outputs": [],
   "source": [
    "header_dims = get_header_dims(file_paths)"
   ]
  },
  {
   "cell_type": "code",
   "execution_count": 16,
   "metadata": {},
   "outputs": [
    {
     "name": "stdout",
     "output_type": "stream",
     "text": [
      "37\n"
     ]
    },
    {
     "data": {
      "text/plain": [
       "['[  3 160 288 288   1   0   0   0]',\n",
       " '[  3 256 204 256   1   0   0   0]',\n",
       " '[  3 180 240 240   1   0   0   0]',\n",
       " '[  3 184 256 256   1   0   0   0]',\n",
       " '[  3 256 168 256   1   0   0   0]',\n",
       " '[  3 161 288 288   1   0   0   0]',\n",
       " '[  3 171 288 288   1   0   0   0]',\n",
       " '[  3 179 288 288   1   0   0   0]',\n",
       " '[  3 162 288 288   1   0   0   0]',\n",
       " '[  3 158 288 288   1   0   0   0]',\n",
       " '[  3 200 256 256   1   0   0   0]',\n",
       " '[  3 256 174 256   1   0   0   0]',\n",
       " '[  3 176 288 288   1   0   0   0]',\n",
       " '[  3 172 256 256   1   0   0   0]',\n",
       " '[  3 150 288 288   1   0   0   0]',\n",
       " '[  3 157 288 288   1   0   0   0]',\n",
       " '[  3 256 186 256   1   0   0   0]',\n",
       " '[  3 170 288 288   1   0   0   0]',\n",
       " '[  3 168 288 288   1   0   0   0]',\n",
       " '[  3 164 288 288   1   0   0   0]',\n",
       " '[  3 256 196 256   1   0   0   0]',\n",
       " '[  3 154 288 288   1   0   0   0]',\n",
       " '[  3 256 192 256   1   0   0   0]',\n",
       " '[  3 156 288 288   1   0   0   0]',\n",
       " '[  3 256 200 256   1   0   0   0]',\n",
       " '[  3 192 256 256   1   0   0   0]',\n",
       " '[  3 176 256 256   1   0   0   0]',\n",
       " '[  3 180 224 224   1   0   0   0]',\n",
       " '[  3 256 208 256   1   0   0   0]',\n",
       " '[  3 159 288 288   1   0   0   0]',\n",
       " '[  3 164 256 256   1   0   0   0]',\n",
       " '[  3 171 256 256   1   0   0   0]',\n",
       " '[  3 212 256 256   1   0   0   0]',\n",
       " '[  3 165 288 288   1   0   0   0]',\n",
       " '[  3 188 256 256   1   0   0   0]',\n",
       " '[  3 224 256 256   1   0   0   0]',\n",
       " '[  3 196 256 256   1   0   0   0]']"
      ]
     },
     "execution_count": 16,
     "metadata": {},
     "output_type": "execute_result"
    }
   ],
   "source": [
    "unique_headers = list(set([str(header) for header in header_dims]))\n",
    "print(len(unique_headers))\n",
    "unique_headers"
   ]
  },
  {
   "cell_type": "code",
   "execution_count": 17,
   "metadata": {},
   "outputs": [
    {
     "data": {
      "text/plain": [
       "([150, 168, 224], [256, 288, 288])"
      ]
     },
     "execution_count": 17,
     "metadata": {},
     "output_type": "execute_result"
    }
   ],
   "source": [
    "# finding minimum and maximum values of each dimension\n",
    "min_dim = [1000,1000,1000]\n",
    "max_dim = [0,0,0]\n",
    "for header in header_dims:\n",
    "    for i in range(3):\n",
    "        if header[i+1] < min_dim[i]:\n",
    "            min_dim[i] = header[i+1]\n",
    "        if header[i+1] > max_dim[i]:\n",
    "            max_dim[i] = header[i+1]\n",
    "\n",
    "min_dim, max_dim"
   ]
  },
  {
   "cell_type": "code",
   "execution_count": 18,
   "metadata": {},
   "outputs": [],
   "source": [
    "import nibabel as nib\n",
    "import numpy as np\n",
    "import torch\n",
    "from monai.transforms import Resize"
   ]
  },
  {
   "cell_type": "code",
   "execution_count": 19,
   "metadata": {},
   "outputs": [],
   "source": [
    "# Function to resample NIfTI image and update the header and affine matrix\n",
    "def resample_nifti_monai_with_affine(nifti_file, new_shape):\n",
    "    # Load the NIfTI image\n",
    "    img = nib.load(nifti_file)\n",
    "    data = img.get_fdata()\n",
    "    original_shape = data.shape\n",
    "    original_affine = img.affine\n",
    "    print(original_shape)\n",
    "    print(original_affine)\n",
    "\n",
    "    # Create a tensor from the image data and add batch and channel dimensions\n",
    "    data_tensor = torch.tensor(data, dtype=torch.float32).unsqueeze(0)\n",
    "\n",
    "    # Define the MONAI Resize transform\n",
    "    resize_transform = Resize(spatial_size=new_shape, mode='area')  # mode='area' for downsampling\n",
    "\n",
    "    # Apply the transform to resample the image\n",
    "    resampled_tensor = resize_transform(data_tensor)\n",
    "\n",
    "    # Remove extra dimensions to get the resampled data\n",
    "    resampled_data = resampled_tensor.squeeze().numpy()\n",
    "\n",
    "    # Compute the scaling factors based on the old and new shapes\n",
    "    scaling_factors = np.array(original_shape) / np.array(new_shape)\n",
    "\n",
    "    # Update the affine matrix by adjusting the voxel size (scaling)\n",
    "    new_affine = original_affine.copy()\n",
    "    for i in range(3):  # Only scale the spatial dimensions (x, y, z)\n",
    "        new_affine[i, i] *= scaling_factors[i]\n",
    "\n",
    "    # Create a new NIfTI image with the resampled data and the new affine matrix\n",
    "    resampled_img = nib.Nifti1Image(resampled_data, new_affine, header=img.header)\n",
    "\n",
    "    # Update the header to reflect the new voxel sizes (pixel dimensions)\n",
    "    # The voxel size is stored in the header's `pixdim` field\n",
    "    new_voxel_sizes = np.array(img.header.get_zooms()) * scaling_factors\n",
    "    resampled_img.header.set_zooms(new_voxel_sizes)\n",
    "\n",
    "    return resampled_img"
   ]
  },
  {
   "cell_type": "code",
   "execution_count": 22,
   "metadata": {},
   "outputs": [],
   "source": [
    "import nibabel as nib\n",
    "import numpy as np\n",
    "from scipy.ndimage import zoom\n",
    "\n",
    "# Function to resample NIfTI image to a fixed shape\n",
    "def resample_nifti(nifti_file, new_shape):\n",
    "    # Load NIfTI image\n",
    "    img = nib.load(nifti_file)\n",
    "    data = img.get_fdata()\n",
    "    \n",
    "    # Original shape and voxel dimensions\n",
    "    original_shape = data.shape\n",
    "    original_affine = img.affine\n",
    "    \n",
    "    # Calculate the rescaling factors for each dimension\n",
    "    scaling_factors = [new_dim / old_dim for new_dim, old_dim in zip(new_shape, original_shape)]\n",
    "    \n",
    "    # Resample the image data to the new shape\n",
    "    resampled_data = zoom(data, scaling_factors, order=1)  # 'order=1' for linear interpolation\n",
    "    \n",
    "    # Create new affine by scaling the voxel sizes\n",
    "    new_affine = original_affine.copy()\n",
    "    new_affine[:3, :3] *= np.array([original_shape[i] / new_shape[i] for i in range(3)])\n",
    "    \n",
    "    # Create new NIfTI image with resampled data and updated affine\n",
    "    resampled_img = nib.Nifti1Image(resampled_data, new_affine)\n",
    "    \n",
    "    return resampled_img"
   ]
  },
  {
   "cell_type": "code",
   "execution_count": 24,
   "metadata": {},
   "outputs": [],
   "source": [
    "resampled_img2 = resample_nifti(file_paths[1], (150, 256, 256))\n",
    "nib.save(resampled_img2, 'resampled_image2.nii.gz')"
   ]
  },
  {
   "cell_type": "code",
   "execution_count": 20,
   "metadata": {},
   "outputs": [
    {
     "name": "stdout",
     "output_type": "stream",
     "text": [
      "(171, 256, 256)\n",
      "[[ 9.95842218e-01  6.39259815e-02  6.48697987e-02 -9.67171326e+01]\n",
      " [-6.38532937e-02  9.97954190e-01 -3.19350394e-03 -1.17400742e+02]\n",
      " [-6.49411157e-02 -9.61925660e-04  9.97888625e-01 -1.13475189e+02]\n",
      " [ 0.00000000e+00  0.00000000e+00  0.00000000e+00  1.00000000e+00]]\n"
     ]
    }
   ],
   "source": [
    "resampled_monai = resample_nifti_monai_with_affine(file_paths[0], new_shape=(150, 256, 256))\n",
    "\n",
    "# Save the resampled image\n",
    "nib.save(resampled_monai, 'resampled_monai.nii.gz')"
   ]
  },
  {
   "cell_type": "code",
   "execution_count": 21,
   "metadata": {},
   "outputs": [
    {
     "name": "stdout",
     "output_type": "stream",
     "text": [
      "(171, 256, 256)\n",
      "[[ 9.95842218e-01  6.39259815e-02  6.48697987e-02 -9.67171326e+01]\n",
      " [-6.38532937e-02  9.97954190e-01 -3.19350394e-03 -1.17400742e+02]\n",
      " [-6.49411157e-02 -9.61925660e-04  9.97888625e-01 -1.13475189e+02]\n",
      " [ 0.00000000e+00  0.00000000e+00  0.00000000e+00  1.00000000e+00]]\n"
     ]
    }
   ],
   "source": [
    "resampled_img = resample_nifti_monai_with_affine(file_paths[0], new_shape=(150, 200, 200))\n",
    "nib.save(resampled_img, 'resampled_img.nii.gz')"
   ]
  },
  {
   "cell_type": "code",
   "execution_count": 73,
   "metadata": {},
   "outputs": [
    {
     "data": {
      "text/html": [
       "<table>\n",
       "<tbody>\n",
       "<tr><td>sizeof_hdr    </td><td>348                                                                                    </td><td>348                                                                                    </td></tr>\n",
       "<tr><td>data_type     </td><td>b&#x27;&#x27;                                                                                    </td><td>b&#x27;&#x27;                                                                                    </td></tr>\n",
       "<tr><td>db_name       </td><td>b&#x27;&#x27;                                                                                    </td><td>b&#x27;&#x27;                                                                                    </td></tr>\n",
       "<tr><td>extents       </td><td>0                                                                                      </td><td>0                                                                                      </td></tr>\n",
       "<tr><td>session_error </td><td>0                                                                                      </td><td>0                                                                                      </td></tr>\n",
       "<tr><td>regular       </td><td>b&#x27;r&#x27;                                                                                   </td><td>b&#x27;r&#x27;                                                                                   </td></tr>\n",
       "<tr><td>dim_info      </td><td>0                                                                                      </td><td>0                                                                                      </td></tr>\n",
       "<tr><td>dim           </td><td>[3, 171, 256, 256, 1, 0, 0, 0]                                                         </td><td>[3, 150, 200, 200, 1, 1, 1, 1]                                                         </td></tr>\n",
       "<tr><td>intent_p1     </td><td>0.0                                                                                    </td><td>0.0                                                                                    </td></tr>\n",
       "<tr><td>intent_p2     </td><td>0.0                                                                                    </td><td>0.0                                                                                    </td></tr>\n",
       "<tr><td>intent_p3     </td><td>0.0                                                                                    </td><td>0.0                                                                                    </td></tr>\n",
       "<tr><td>intent_code   </td><td>0                                                                                      </td><td>0                                                                                      </td></tr>\n",
       "<tr><td>datatype      </td><td>4                                                                                      </td><td>4                                                                                      </td></tr>\n",
       "<tr><td>bitpix        </td><td>16                                                                                     </td><td>16                                                                                     </td></tr>\n",
       "<tr><td>slice_start   </td><td>0                                                                                      </td><td>0                                                                                      </td></tr>\n",
       "<tr><td>pixdim        </td><td>[1.0, 0.9999982118606567, 1.0, 1.0, 0.007143000140786171, 0.0, 0.0, 0.0]               </td><td>[1.0, 1.139997959136963, 1.2799999713897705, 1.2799999713897705, 1.0, 1.0, 1.0, 1.0]   </td></tr>\n",
       "<tr><td>vox_offset    </td><td>0.0                                                                                    </td><td>0.0                                                                                    </td></tr>\n",
       "<tr><td>scl_slope     </td><td>nan                                                                                    </td><td>nan                                                                                    </td></tr>\n",
       "<tr><td>scl_inter     </td><td>nan                                                                                    </td><td>nan                                                                                    </td></tr>\n",
       "<tr><td>slice_end     </td><td>0                                                                                      </td><td>0                                                                                      </td></tr>\n",
       "<tr><td>slice_code    </td><td>0                                                                                      </td><td>0                                                                                      </td></tr>\n",
       "<tr><td>xyzt_units    </td><td>0                                                                                      </td><td>0                                                                                      </td></tr>\n",
       "<tr><td>cal_max       </td><td>0.0                                                                                    </td><td>0.0                                                                                    </td></tr>\n",
       "<tr><td>cal_min       </td><td>0.0                                                                                    </td><td>0.0                                                                                    </td></tr>\n",
       "<tr><td>slice_duration</td><td>0.0                                                                                    </td><td>0.0                                                                                    </td></tr>\n",
       "<tr><td>toffset       </td><td>0.0                                                                                    </td><td>0.0                                                                                    </td></tr>\n",
       "<tr><td>glmax         </td><td>0                                                                                      </td><td>0                                                                                      </td></tr>\n",
       "<tr><td>glmin         </td><td>0                                                                                      </td><td>0                                                                                      </td></tr>\n",
       "<tr><td>descrip       </td><td>b&#x27;TE=3.2;Time=175927.760&#x27;                                                              </td><td>b&#x27;TE=3.2;Time=175927.760&#x27;                                                              </td></tr>\n",
       "<tr><td>aux_file      </td><td>b&#x27;imgComments&#x27;                                                                         </td><td>b&#x27;imgComments&#x27;                                                                         </td></tr>\n",
       "<tr><td>qform_code    </td><td>1                                                                                      </td><td>0                                                                                      </td></tr>\n",
       "<tr><td>sform_code    </td><td>1                                                                                      </td><td>2                                                                                      </td></tr>\n",
       "<tr><td>quatern_b     </td><td>0.0005584752070717514                                                                  </td><td>0.0004366259672679007                                                                  </td></tr>\n",
       "<tr><td>quatern_c     </td><td>0.03248653560876846                                                                    </td><td>0.02695903554558754                                                                    </td></tr>\n",
       "<tr><td>quatern_d     </td><td>-0.031978096812963486                                                                  </td><td>-0.02653656154870987                                                                   </td></tr>\n",
       "<tr><td>qoffset_x     </td><td>-96.71713256835938                                                                     </td><td>-96.71713256835938                                                                     </td></tr>\n",
       "<tr><td>qoffset_y     </td><td>-117.40074157714844                                                                    </td><td>-117.40074157714844                                                                    </td></tr>\n",
       "<tr><td>qoffset_z     </td><td>-113.47518920898438                                                                    </td><td>-113.47518920898438                                                                    </td></tr>\n",
       "<tr><td>srow_x        </td><td>[0.9958422183990479, 0.06392598152160645, 0.06486979871988297, -96.71713256835938]     </td><td>[1.1352601051330566, 0.06392598152160645, 0.06486979871988297, -96.71713256835938]     </td></tr>\n",
       "<tr><td>srow_y        </td><td>[-0.06385329365730286, 0.9979541897773743, -0.0031935039442032576, -117.40074157714844]</td><td>[-0.06385329365730286, 1.277381420135498, -0.0031935039442032576, -117.40074157714844] </td></tr>\n",
       "<tr><td>srow_z        </td><td>[-0.06494111567735672, -0.0009619256597943604, 0.9978886246681213, -113.47518920898438]</td><td>[-0.06494111567735672, -0.0009619256597943604, 1.2772974967956543, -113.47518920898438]</td></tr>\n",
       "<tr><td>intent_name   </td><td>b&#x27;&#x27;                                                                                    </td><td>b&#x27;&#x27;                                                                                    </td></tr>\n",
       "<tr><td>magic         </td><td>b&#x27;n+1&#x27;                                                                                 </td><td>b&#x27;n+1&#x27;                                                                                 </td></tr>\n",
       "</tbody>\n",
       "</table>"
      ],
      "text/plain": [
       "'<table>\\n<tbody>\\n<tr><td>sizeof_hdr    </td><td>348                                                                                    </td><td>348                                                                                    </td></tr>\\n<tr><td>data_type     </td><td>b&#x27;&#x27;                                                                                    </td><td>b&#x27;&#x27;                                                                                    </td></tr>\\n<tr><td>db_name       </td><td>b&#x27;&#x27;                                                                                    </td><td>b&#x27;&#x27;                                                                                    </td></tr>\\n<tr><td>extents       </td><td>0                                                                                      </td><td>0                                                                                      </td></tr>\\n<tr><td>session_error </td><td>0                                                                                      </td><td>0                                                                                      </td></tr>\\n<tr><td>regular       </td><td>b&#x27;r&#x27;                                                                                   </td><td>b&#x27;r&#x27;                                                                                   </td></tr>\\n<tr><td>dim_info      </td><td>0                                                                                      </td><td>0                                                                                      </td></tr>\\n<tr><td>dim           </td><td>[3, 171, 256, 256, 1, 0, 0, 0]                                                         </td><td>[3, 150, 200, 200, 1, 1, 1, 1]                                                         </td></tr>\\n<tr><td>intent_p1     </td><td>0.0                                                                                    </td><td>0.0                                                                                    </td></tr>\\n<tr><td>intent_p2     </td><td>0.0                                                                                    </td><td>0.0                                                                                    </td></tr>\\n<tr><td>intent_p3     </td><td>0.0                                                                                    </td><td>0.0                                                                                    </td></tr>\\n<tr><td>intent_code   </td><td>0                                                                                      </td><td>0                                                                                      </td></tr>\\n<tr><td>datatype      </td><td>4                                                                                      </td><td>4                                                                                      </td></tr>\\n<tr><td>bitpix        </td><td>16                                                                                     </td><td>16                                                                                     </td></tr>\\n<tr><td>slice_start   </td><td>0                                                                                      </td><td>0                                                                                      </td></tr>\\n<tr><td>pixdim        </td><td>[1.0, 0.9999982118606567, 1.0, 1.0, 0.007143000140786171, 0.0, 0.0, 0.0]               </td><td>[1.0, 1.139997959136963, 1.2799999713897705, 1.2799999713897705, 1.0, 1.0, 1.0, 1.0]   </td></tr>\\n<tr><td>vox_offset    </td><td>0.0                                                                                    </td><td>0.0                                                                                    </td></tr>\\n<tr><td>scl_slope     </td><td>nan                                                                                    </td><td>nan                                                                                    </td></tr>\\n<tr><td>scl_inter     </td><td>nan                                                                                    </td><td>nan                                                                                    </td></tr>\\n<tr><td>slice_end     </td><td>0                                                                                      </td><td>0                                                                                      </td></tr>\\n<tr><td>slice_code    </td><td>0                                                                                      </td><td>0                                                                                      </td></tr>\\n<tr><td>xyzt_units    </td><td>0                                                                                      </td><td>0                                                                                      </td></tr>\\n<tr><td>cal_max       </td><td>0.0                                                                                    </td><td>0.0                                                                                    </td></tr>\\n<tr><td>cal_min       </td><td>0.0                                                                                    </td><td>0.0                                                                                    </td></tr>\\n<tr><td>slice_duration</td><td>0.0                                                                                    </td><td>0.0                                                                                    </td></tr>\\n<tr><td>toffset       </td><td>0.0                                                                                    </td><td>0.0                                                                                    </td></tr>\\n<tr><td>glmax         </td><td>0                                                                                      </td><td>0                                                                                      </td></tr>\\n<tr><td>glmin         </td><td>0                                                                                      </td><td>0                                                                                      </td></tr>\\n<tr><td>descrip       </td><td>b&#x27;TE=3.2;Time=175927.760&#x27;                                                              </td><td>b&#x27;TE=3.2;Time=175927.760&#x27;                                                              </td></tr>\\n<tr><td>aux_file      </td><td>b&#x27;imgComments&#x27;                                                                         </td><td>b&#x27;imgComments&#x27;                                                                         </td></tr>\\n<tr><td>qform_code    </td><td>1                                                                                      </td><td>0                                                                                      </td></tr>\\n<tr><td>sform_code    </td><td>1                                                                                      </td><td>2                                                                                      </td></tr>\\n<tr><td>quatern_b     </td><td>0.0005584752070717514                                                                  </td><td>0.0004366259672679007                                                                  </td></tr>\\n<tr><td>quatern_c     </td><td>0.03248653560876846                                                                    </td><td>0.02695903554558754                                                                    </td></tr>\\n<tr><td>quatern_d     </td><td>-0.031978096812963486                                                                  </td><td>-0.02653656154870987                                                                   </td></tr>\\n<tr><td>qoffset_x     </td><td>-96.71713256835938                                                                     </td><td>-96.71713256835938                                                                     </td></tr>\\n<tr><td>qoffset_y     </td><td>-117.40074157714844                                                                    </td><td>-117.40074157714844                                                                    </td></tr>\\n<tr><td>qoffset_z     </td><td>-113.47518920898438                                                                    </td><td>-113.47518920898438                                                                    </td></tr>\\n<tr><td>srow_x        </td><td>[0.9958422183990479, 0.06392598152160645, 0.06486979871988297, -96.71713256835938]     </td><td>[1.1352601051330566, 0.06392598152160645, 0.06486979871988297, -96.71713256835938]     </td></tr>\\n<tr><td>srow_y        </td><td>[-0.06385329365730286, 0.9979541897773743, -0.0031935039442032576, -117.40074157714844]</td><td>[-0.06385329365730286, 1.277381420135498, -0.0031935039442032576, -117.40074157714844] </td></tr>\\n<tr><td>srow_z        </td><td>[-0.06494111567735672, -0.0009619256597943604, 0.9978886246681213, -113.47518920898438]</td><td>[-0.06494111567735672, -0.0009619256597943604, 1.2772974967956543, -113.47518920898438]</td></tr>\\n<tr><td>intent_name   </td><td>b&#x27;&#x27;                                                                                    </td><td>b&#x27;&#x27;                                                                                    </td></tr>\\n<tr><td>magic         </td><td>b&#x27;n+1&#x27;                                                                                 </td><td>b&#x27;n+1&#x27;                                                                                 </td></tr>\\n</tbody>\\n</table>'"
      ]
     },
     "execution_count": 73,
     "metadata": {},
     "output_type": "execute_result"
    }
   ],
   "source": [
    "import tabulate\n",
    "\n",
    "img = nib.load(file_paths[0])\n",
    "\n",
    "header_original = img.header.structarr\n",
    "header_monai_sampled = resampled_img.header.structarr\n",
    "\n",
    "header_params = img.header.keys()\n",
    "\n",
    "compare = []\n",
    "for param in header_params:\n",
    "    compare.append([param, header_original[param].tolist(), header_monai_sampled[param].tolist()])\n",
    "\n",
    "table = tabulate.tabulate(compare, tablefmt='html')\n",
    "\n",
    "table"
   ]
  },
  {
   "cell_type": "code",
   "execution_count": 74,
   "metadata": {},
   "outputs": [],
   "source": [
    "def overide_header(img, header):\n",
    "    voxel_spacing = header.get_zooms()\n",
    "\n",
    "    qoffset_x = header['qoffset_x']\n",
    "    qoffset_y = header['qoffset_y']\n",
    "    qoffset_z = header['qoffset_z']\n",
    "\n",
    "    new_affine = np.array([\n",
    "        [voxel_spacing[0], 0, 0, qoffset_x],\n",
    "        [0, voxel_spacing[1], 0, qoffset_y],\n",
    "        [0, 0, voxel_spacing[2], qoffset_z],\n",
    "        [0, 0, 0, 1]\n",
    "    ])\n",
    "\n",
    "    new_header = header.copy()\n",
    "    \n",
    "    new_header['srow_x'] = new_affine[0,:]\n",
    "    new_header['srow_y'] = new_affine[1,:]\n",
    "    new_header['srow_z'] = new_affine[2,:]\n",
    "\n",
    "    new_image = nib.Nifti1Image(img.get_fdata(), new_affine, new_header)\n",
    "\n",
    "    return new_image"
   ]
  },
  {
   "cell_type": "code",
   "execution_count": 75,
   "metadata": {},
   "outputs": [],
   "source": [
    "updated_image = overide_header(resampled_img, resampled_img.header)"
   ]
  },
  {
   "cell_type": "code",
   "execution_count": 76,
   "metadata": {},
   "outputs": [
    {
     "name": "stdout",
     "output_type": "stream",
     "text": [
      "<class 'nibabel.nifti1.Nifti1Header'> object, endian='<'\n",
      "sizeof_hdr      : 348\n",
      "data_type       : b''\n",
      "db_name         : b''\n",
      "extents         : 0\n",
      "session_error   : 0\n",
      "regular         : b'r'\n",
      "dim_info        : 0\n",
      "dim             : [  3 150 200 200   1   1   1   1]\n",
      "intent_p1       : 0.0\n",
      "intent_p2       : 0.0\n",
      "intent_p3       : 0.0\n",
      "intent_code     : none\n",
      "datatype        : int16\n",
      "bitpix          : 16\n",
      "slice_start     : 0\n",
      "pixdim          : [1.       1.139998 1.28     1.28     1.       1.       1.       1.      ]\n",
      "vox_offset      : 0.0\n",
      "scl_slope       : nan\n",
      "scl_inter       : nan\n",
      "slice_end       : 0\n",
      "slice_code      : unknown\n",
      "xyzt_units      : 0\n",
      "cal_max         : 0.0\n",
      "cal_min         : 0.0\n",
      "slice_duration  : 0.0\n",
      "toffset         : 0.0\n",
      "glmax           : 0\n",
      "glmin           : 0\n",
      "descrip         : b'TE=3.2;Time=175927.760'\n",
      "aux_file        : b'imgComments'\n",
      "qform_code      : unknown\n",
      "sform_code      : aligned\n",
      "quatern_b       : 0.00043662597\n",
      "quatern_c       : 0.026959036\n",
      "quatern_d       : -0.026536562\n",
      "qoffset_x       : -96.71713\n",
      "qoffset_y       : -117.40074\n",
      "qoffset_z       : -113.47519\n",
      "srow_x          : [  1.139998   0.         0.       -96.71713 ]\n",
      "srow_y          : [   0.         1.28       0.      -117.40074]\n",
      "srow_z          : [   0.         0.         1.28    -113.47519]\n",
      "intent_name     : b''\n",
      "magic           : b'n+1'\n"
     ]
    }
   ],
   "source": [
    "print(updated_image.header)"
   ]
  },
  {
   "cell_type": "code",
   "execution_count": 77,
   "metadata": {},
   "outputs": [],
   "source": [
    "def downsample_image(img):\n",
    "    return img.slicer[::5, :, :]"
   ]
  },
  {
   "cell_type": "code",
   "execution_count": 78,
   "metadata": {},
   "outputs": [],
   "source": [
    "downsampled_image = downsample_image(updated_image)"
   ]
  },
  {
   "cell_type": "code",
   "execution_count": 79,
   "metadata": {},
   "outputs": [
    {
     "name": "stdout",
     "output_type": "stream",
     "text": [
      "<class 'nibabel.nifti1.Nifti1Header'> object, endian='<'\n",
      "sizeof_hdr      : 348\n",
      "data_type       : b''\n",
      "db_name         : b''\n",
      "extents         : 0\n",
      "session_error   : 0\n",
      "regular         : b'r'\n",
      "dim_info        : 0\n",
      "dim             : [  3  30 200 200   1   1   1   1]\n",
      "intent_p1       : 0.0\n",
      "intent_p2       : 0.0\n",
      "intent_p3       : 0.0\n",
      "intent_code     : none\n",
      "datatype        : int16\n",
      "bitpix          : 16\n",
      "slice_start     : 0\n",
      "pixdim          : [1.      5.69999 1.28    1.28    1.      1.      1.      1.     ]\n",
      "vox_offset      : 0.0\n",
      "scl_slope       : nan\n",
      "scl_inter       : nan\n",
      "slice_end       : 0\n",
      "slice_code      : unknown\n",
      "xyzt_units      : 0\n",
      "cal_max         : 0.0\n",
      "cal_min         : 0.0\n",
      "slice_duration  : 0.0\n",
      "toffset         : 0.0\n",
      "glmax           : 0\n",
      "glmin           : 0\n",
      "descrip         : b'TE=3.2;Time=175927.760'\n",
      "aux_file        : b'imgComments'\n",
      "qform_code      : unknown\n",
      "sform_code      : aligned\n",
      "quatern_b       : 0.0\n",
      "quatern_c       : 0.0\n",
      "quatern_d       : 0.0\n",
      "qoffset_x       : -96.71713\n",
      "qoffset_y       : -117.40074\n",
      "qoffset_z       : -113.47519\n",
      "srow_x          : [  5.69999   0.        0.      -96.71713]\n",
      "srow_y          : [   0.         1.28       0.      -117.40074]\n",
      "srow_z          : [   0.         0.         1.28    -113.47519]\n",
      "intent_name     : b''\n",
      "magic           : b'n+1'\n"
     ]
    }
   ],
   "source": [
    "print(downsampled_image.header)"
   ]
  },
  {
   "cell_type": "code",
   "execution_count": 82,
   "metadata": {},
   "outputs": [],
   "source": [
    "def convert_voxel(img, file_name, new_spacing=[1, 1, 1]):\n",
    "    interpolator = sitk.sitkLinear\n",
    "\n",
    "    img_data = img.get_fdata()\n",
    "\n",
    "    volume = sitk.GetImageFromArray(img_data.astype(np.float32))\n",
    "\n",
    "    old_spacing = volume.GetSpacing()\n",
    "    old_size = volume.GetSize()\n",
    "\n",
    "    new_size = [int(round(osz*ospc/nspc)) for osz, ospc, nspc in zip(old_size, old_spacing, new_spacing)]\n",
    "    resample_volume = sitk.Resample(volume, new_size, sitk.Transform(), interpolator, volume.GetOrigin(), new_spacing, volume.GetDirection(), 0.0, volume.GetPixelID())\n",
    "\n",
    "    sitk.WriteImage(resample_volume, f\"{file_name}_resampled.nii.gz\")"
   ]
  },
  {
   "cell_type": "code",
   "execution_count": 83,
   "metadata": {},
   "outputs": [],
   "source": [
    "convert_voxel(downsampled_image, file_name)"
   ]
  },
  {
   "cell_type": "code",
   "execution_count": 85,
   "metadata": {},
   "outputs": [
    {
     "name": "stdout",
     "output_type": "stream",
     "text": [
      "<class 'nibabel.nifti1.Nifti1Header'> object, endian='<'\n",
      "sizeof_hdr      : 348\n",
      "data_type       : b''\n",
      "db_name         : b''\n",
      "extents         : 0\n",
      "session_error   : 0\n",
      "regular         : b'r'\n",
      "dim_info        : 0\n",
      "dim             : [  3 200 200  30   1   1   1   1]\n",
      "intent_p1       : 0.0\n",
      "intent_p2       : 0.0\n",
      "intent_p3       : 0.0\n",
      "intent_code     : none\n",
      "datatype        : float32\n",
      "bitpix          : 32\n",
      "slice_start     : 0\n",
      "pixdim          : [1. 1. 1. 1. 0. 0. 0. 0.]\n",
      "vox_offset      : 0.0\n",
      "scl_slope       : nan\n",
      "scl_inter       : nan\n",
      "slice_end       : 0\n",
      "slice_code      : unknown\n",
      "xyzt_units      : 10\n",
      "cal_max         : 0.0\n",
      "cal_min         : 0.0\n",
      "slice_duration  : 0.0\n",
      "toffset         : 0.0\n",
      "glmax           : 0\n",
      "glmin           : 0\n",
      "descrip         : b''\n",
      "aux_file        : b''\n",
      "qform_code      : scanner\n",
      "sform_code      : scanner\n",
      "quatern_b       : 0.0\n",
      "quatern_c       : 0.0\n",
      "quatern_d       : 1.0\n",
      "qoffset_x       : -0.0\n",
      "qoffset_y       : -0.0\n",
      "qoffset_z       : 0.0\n",
      "srow_x          : [-1.  0.  0. -0.]\n",
      "srow_y          : [ 0. -1.  0. -0.]\n",
      "srow_z          : [0. 0. 1. 0.]\n",
      "intent_name     : b''\n",
      "magic           : b'n+1'\n"
     ]
    }
   ],
   "source": [
    "downsampled_image = nib.load(f\"{file_name}_resampled.nii.gz\")\n",
    "print(downsampled_image.header)"
   ]
  },
  {
   "cell_type": "code",
   "execution_count": null,
   "metadata": {},
   "outputs": [],
   "source": []
  }
 ],
 "metadata": {
  "kernelspec": {
   "display_name": "Python 3",
   "language": "python",
   "name": "python3"
  },
  "language_info": {
   "codemirror_mode": {
    "name": "ipython",
    "version": 3
   },
   "file_extension": ".py",
   "mimetype": "text/x-python",
   "name": "python",
   "nbconvert_exporter": "python",
   "pygments_lexer": "ipython3",
   "version": "3.11.5"
  }
 },
 "nbformat": 4,
 "nbformat_minor": 2
}
