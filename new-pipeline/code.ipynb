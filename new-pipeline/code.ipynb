{
 "cells": [
  {
   "cell_type": "code",
   "execution_count": 11,
   "metadata": {},
   "outputs": [],
   "source": [
    "import nibabel as nib\n",
    "import numpy as np\n",
    "import os\n",
    "import glob\n",
    "import SimpleITK as sitk\n",
    "from scipy.ndimage import zoom"
   ]
  },
  {
   "cell_type": "code",
   "execution_count": 21,
   "metadata": {},
   "outputs": [],
   "source": [
    "def update_header(input_file, save_img=False, output_dir=None):\n",
    "    file_name = os.path.basename(input_file)\n",
    "\n",
    "    nib_file = nib.load(input_file)\n",
    "\n",
    "    header = nib_file.header\n",
    "\n",
    "    voxel_spacing = header.get_zooms()\n",
    "\n",
    "    qoffset_x = header['qoffset_x']\n",
    "    qoffset_y = header['qoffset_y']\n",
    "    qoffset_z = header['qoffset_z']\n",
    "\n",
    "    new_affine = np.array([\n",
    "        [voxel_spacing[0], 0, 0, qoffset_x],\n",
    "        [0, voxel_spacing[1], 0, qoffset_y],\n",
    "        [0, 0, voxel_spacing[2], qoffset_z],\n",
    "        [0, 0, 0, 1]\n",
    "    ])\n",
    "\n",
    "    new_header = header.copy()\n",
    "\n",
    "    new_header['srow_x'] = new_affine[0, :]\n",
    "    new_header['srow_y'] = new_affine[1, :]\n",
    "    new_header['srow_z'] = new_affine[2, :]\n",
    "\n",
    "    updated_image = nib.Nifti1Image(nib_file.get_fdata(), new_affine, header=new_header)\n",
    "\n",
    "    if save_img:\n",
    "        nib.save(updated_image, os.path.join(output_dir, 'header_updated'+ file_name))\n",
    "    \n",
    "    return updated_image, file_name"
   ]
  },
  {
   "cell_type": "code",
   "execution_count": 13,
   "metadata": {},
   "outputs": [],
   "source": [
    "def down_sample(file_path, factor=5, save_img=False, output_dir=None):\n",
    "    image = nib.load(file_path)\n",
    "    file_name = os.path.basename(file_path)\n",
    "    \n",
    "    downsampled_image = image.slicer[::factor, :, :]\n",
    "    \n",
    "    if save_img:\n",
    "        nib.save(downsampled_image, os.path.join(output_dir, 'downsampled_' + file_name))\n",
    "\n",
    "    return downsampled_image\n",
    "    "
   ]
  },
  {
   "cell_type": "code",
   "execution_count": 14,
   "metadata": {},
   "outputs": [],
   "source": [
    "def resample_volume(volumne_path=\"\", interpolator=sitk.sitkLinear, new_spacing=None, output_path=\"\"):\n",
    "    if new_spacing is None:\n",
    "        new_spacing = [1, 1, 1]\n",
    "\n",
    "    voulume = sitk.ReadImage(volumne_path, sitk.sitkFloat32)\n",
    "    original_spacing = voulume.GetSpacing()\n",
    "    original_size = voulume.GetSize()\n",
    "    new_size = [int(round(osz*ospc/nspc)) for osz, ospc, nspc in zip(original_size, original_spacing, new_spacing)]\n",
    "    resample_volume = sitk.Resample(voulume, new_size, sitk.Transform(), interpolator, voulume.GetOrigin(), new_spacing, voulume.GetDirection(), 0.0, voulume.GetPixelID())\n",
    "\n",
    "    sitk.WriteImage(resample_volume, output_path)"
   ]
  },
  {
   "cell_type": "code",
   "execution_count": 23,
   "metadata": {},
   "outputs": [],
   "source": [
    "def fix_dim(nifti_file, new_shape, save_img=False, output_dir=None):\n",
    "    # Load NIfTI image\n",
    "    img = nib.load(nifti_file)\n",
    "    data = img.get_fdata()\n",
    "    \n",
    "    # Original shape and voxel dimensions\n",
    "    original_shape = data.shape\n",
    "    original_affine = img.affine\n",
    "    \n",
    "    # Calculate the rescaling factors for each dimension\n",
    "    scaling_factors = [new_dim / old_dim for new_dim, old_dim in zip(new_shape, original_shape)]\n",
    "    \n",
    "    # Resample the image data to the new shape\n",
    "    resampled_data = zoom(data, scaling_factors, order=1)  # 'order=1' for linear interpolation\n",
    "    \n",
    "    # Create new affine by scaling the voxel sizes\n",
    "    new_affine = original_affine.copy()\n",
    "    new_affine[:3, :3] *= np.array([original_shape[i] / new_shape[i] for i in range(3)])\n",
    "    \n",
    "    # Create new NIfTI image with resampled data and updated affine\n",
    "    resampled_img = nib.Nifti1Image(resampled_data, new_affine)\n",
    "\n",
    "    if save_img:\n",
    "        nib.save(resampled_img, os.path.join(output_dir, 'dimfixed_' + os.path.basename(nifti_file)))\n",
    "    \n",
    "    return resampled_img"
   ]
  },
  {
   "cell_type": "code",
   "execution_count": 40,
   "metadata": {},
   "outputs": [],
   "source": [
    "original_dataset = \"DataSet\"\n",
    "header_updated = \"Header-Updated\"\n",
    "resampled_highRes = \"Resampled/High-Res\"\n",
    "resampled_lowRes = \"Resampled/Low-Res\"\n",
    "downsampled = \"Down-sampled\"\n",
    "dim_fixed = \"Dim-Fixed\""
   ]
  },
  {
   "cell_type": "code",
   "execution_count": 25,
   "metadata": {},
   "outputs": [],
   "source": [
    "original_data_paths = glob.glob(os.path.join(original_dataset, '*'))"
   ]
  },
  {
   "cell_type": "code",
   "execution_count": 26,
   "metadata": {},
   "outputs": [],
   "source": [
    "sample_data_point = original_data_paths[0]"
   ]
  },
  {
   "cell_type": "code",
   "execution_count": 27,
   "metadata": {},
   "outputs": [],
   "source": [
    "# Update header\n",
    "updated_image, file_name = update_header(sample_data_point, save_img=True, output_dir=header_updated)"
   ]
  },
  {
   "cell_type": "code",
   "execution_count": 28,
   "metadata": {},
   "outputs": [],
   "source": [
    "dim_fixed_image = fix_dim(sample_data_point, (150, 256, 256), save_img=True, output_dir=dim_fixed)"
   ]
  },
  {
   "cell_type": "code",
   "execution_count": 34,
   "metadata": {},
   "outputs": [],
   "source": [
    "sample_data_point1 = original_data_paths[4]\n",
    "dim_fixed_image1 = fix_dim(sample_data_point1, (150, 256, 256), save_img=True, output_dir=dim_fixed)"
   ]
  },
  {
   "cell_type": "code",
   "execution_count": 35,
   "metadata": {},
   "outputs": [],
   "source": [
    "dim_fixed_data_paths = glob.glob(os.path.join(dim_fixed, '*'))\n",
    "sample_data_point1 = dim_fixed_data_paths[4]\n",
    "updated_image1, file_name1 = update_header(sample_data_point1, save_img=True, output_dir=header_updated)"
   ]
  },
  {
   "cell_type": "code",
   "execution_count": 38,
   "metadata": {},
   "outputs": [
    {
     "name": "stdout",
     "output_type": "stream",
     "text": [
      "header_updateddimfixed_CC0005_philips_15_62_M.nii.gz\n"
     ]
    }
   ],
   "source": [
    "header_updated_data_paths = glob.glob(os.path.join(header_updated, '*'))\n",
    "sample_data_point1 = header_updated_data_paths[4]\n",
    "print(os.path.basename(sample_data_point1))\n",
    "# downsampled_image = down_sample(sample_data_point1, save_img=True, output_dir=downsampled)"
   ]
  },
  {
   "cell_type": "code",
   "execution_count": 41,
   "metadata": {},
   "outputs": [],
   "source": [
    "downsampled_image = down_sample(sample_data_point1, save_img=True, output_dir=downsampled)"
   ]
  },
  {
   "cell_type": "code",
   "execution_count": null,
   "metadata": {},
   "outputs": [],
   "source": [
    "print(downsampled_image.header)"
   ]
  },
  {
   "cell_type": "code",
   "execution_count": null,
   "metadata": {},
   "outputs": [],
   "source": [
    "print(updated_image1.header)"
   ]
  },
  {
   "cell_type": "code",
   "execution_count": 44,
   "metadata": {},
   "outputs": [],
   "source": [
    "# Resaple the High-Res image\n",
    "resample_volume(sample_data_point1, output_path=os.path.join(resampled_highRes, os.path.basename(sample_data_point1)))"
   ]
  },
  {
   "cell_type": "code",
   "execution_count": 45,
   "metadata": {},
   "outputs": [],
   "source": [
    "# Resaple the Low-Res image\n",
    "downsampled_data_paths = glob.glob(os.path.join(downsampled, '*'))\n",
    "sample_data_point_downsampled = downsampled_data_paths[0]\n",
    "resample_volume(sample_data_point_downsampled, output_path=os.path.join(resampled_lowRes, os.path.basename(sample_data_point_downsampled)))"
   ]
  },
  {
   "cell_type": "code",
   "execution_count": 46,
   "metadata": {},
   "outputs": [
    {
     "data": {
      "text/plain": [
       "359"
      ]
     },
     "execution_count": 46,
     "metadata": {},
     "output_type": "execute_result"
    }
   ],
   "source": [
    "len(original_data_paths)"
   ]
  },
  {
   "cell_type": "code",
   "execution_count": null,
   "metadata": {},
   "outputs": [],
   "source": []
  }
 ],
 "metadata": {
  "kernelspec": {
   "display_name": "Python 3",
   "language": "python",
   "name": "python3"
  },
  "language_info": {
   "codemirror_mode": {
    "name": "ipython",
    "version": 3
   },
   "file_extension": ".py",
   "mimetype": "text/x-python",
   "name": "python",
   "nbconvert_exporter": "python",
   "pygments_lexer": "ipython3",
   "version": "3.11.5"
  }
 },
 "nbformat": 4,
 "nbformat_minor": 2
}
